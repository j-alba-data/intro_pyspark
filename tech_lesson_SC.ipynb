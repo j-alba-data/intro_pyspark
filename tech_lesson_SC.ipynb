{
 "cells": [
  {
   "cell_type": "code",
   "execution_count": 1,
   "id": "b981badf",
   "metadata": {},
   "outputs": [],
   "source": [
    "import os\n",
    "os.environ['JAVA_HOME'] = '/Library/Java/JavaVirtualMachines/jdk-19.jdk/Contents/Home'"
   ]
  },
  {
   "cell_type": "code",
   "execution_count": 2,
   "id": "f7ba118e",
   "metadata": {},
   "outputs": [],
   "source": [
    "import findspark"
   ]
  },
  {
   "cell_type": "code",
   "execution_count": 3,
   "id": "e2a69a5f",
   "metadata": {},
   "outputs": [],
   "source": [
    "from pyspark import SparkConf, SparkContext\n",
    "from py4j.protocol import Py4JError # imports the Py4JError exception class"
   ]
  },
  {
   "cell_type": "code",
   "execution_count": 4,
   "id": "117e0ee6",
   "metadata": {},
   "outputs": [
    {
     "name": "stderr",
     "output_type": "stream",
     "text": [
      "WARNING: Using incubator modules: jdk.incubator.vector\n",
      "Using Spark's default log4j profile: org/apache/spark/log4j2-defaults.properties\n",
      "Setting default log level to \"WARN\".\n",
      "To adjust logging level use sc.setLogLevel(newLevel). For SparkR, use setLogLevel(newLevel).\n",
      "25/07/20 15:13:36 WARN NativeCodeLoader: Unable to load native-hadoop library for your platform... using builtin-java classes where applicable\n",
      "25/07/20 15:13:37 WARN Utils: Service 'SparkUI' could not bind on port 4040. Attempting port 4041.\n"
     ]
    }
   ],
   "source": [
    "# init findspark to add PySpark to system path\n",
    "findspark.init()\n",
    "\n",
    "# create sparkconf obj\n",
    "conf = SparkConf().setAppName('SparkContextDemo').setMaster('local[*]')\n",
    "\n",
    "# create sparkcontext\n",
    "sc = SparkContext(conf=conf)"
   ]
  },
  {
   "cell_type": "code",
   "execution_count": 5,
   "id": "fb7fa7bb",
   "metadata": {},
   "outputs": [
    {
     "name": "stdout",
     "output_type": "stream",
     "text": [
      "Application Name: SparkContextDemo\n",
      "Master URL: local[*]\n",
      "Default Parallelism: 8\n",
      "Default Minimum Partitions: 2\n"
     ]
    }
   ],
   "source": [
    "# demo sparkcontext attributes and settings\n",
    "print('Application Name:', sc.appName)\n",
    "\n",
    "# master url\n",
    "print('Master URL:', sc.master)\n",
    "\n",
    "# sparkconf\n",
    "#print('SparkConf:', sc.getConf().getAll())\n",
    "\n",
    "# default parallelism\n",
    "print('Default Parallelism:', sc.defaultParallelism)\n",
    "\n",
    "# default Min Partitions\n",
    "print('Default Minimum Partitions:', sc.defaultMinPartitions)"
   ]
  },
  {
   "cell_type": "code",
   "execution_count": 6,
   "id": "068b9c4d",
   "metadata": {},
   "outputs": [
    {
     "name": "stdout",
     "output_type": "stream",
     "text": [
      "Spark Home: None\n",
      "Spark User: josefalba\n",
      "Spark Version: 4.0.0\n",
      "Python Version: 3.9\n"
     ]
    }
   ],
   "source": [
    "# spark home\n",
    "print('Spark Home:', sc.sparkHome)\n",
    "\n",
    "# spark user\n",
    "print('Spark User:', sc.sparkUser())\n",
    "\n",
    "# spark version \n",
    "print('Spark Version:', sc.version)\n",
    "\n",
    "# python version\n",
    "print('Python Version:', sc.pythonVer)"
   ]
  },
  {
   "cell_type": "code",
   "execution_count": 7,
   "id": "561411e0",
   "metadata": {},
   "outputs": [
    {
     "name": "stdout",
     "output_type": "stream",
     "text": [
      "Registered RDDs: {}\n",
      "Available Resources: Map()\n"
     ]
    }
   ],
   "source": [
    "# list reg. rdds\n",
    "print('Registered RDDs:', sc._jsc.getPersistentRDDs())\n",
    "\n",
    "# avail resources\n",
    "print('Available Resources:', sc._jsc.sc().resources())\n",
    "\n",
    "# mod log level\n",
    "sc.setLogLevel('WARN')"
   ]
  },
  {
   "cell_type": "code",
   "execution_count": 8,
   "id": "f67e9418",
   "metadata": {},
   "outputs": [
    {
     "name": "stdout",
     "output_type": "stream",
     "text": [
      "<class 'pyspark.core.context.SparkContext'>\n"
     ]
    }
   ],
   "source": [
    "# type\n",
    "print(type(sc))"
   ]
  },
  {
   "cell_type": "code",
   "execution_count": 9,
   "id": "7a545267",
   "metadata": {},
   "outputs": [
    {
     "data": {
      "text/plain": [
       "1753049616698"
      ]
     },
     "execution_count": 9,
     "metadata": {},
     "output_type": "execute_result"
    }
   ],
   "source": [
    "# sc start time\n",
    "sc.startTime"
   ]
  },
  {
   "cell_type": "code",
   "execution_count": 10,
   "id": "fe18532c",
   "metadata": {},
   "outputs": [],
   "source": [
    "# stop the sparkcontext\n",
    "sc.stop()"
   ]
  }
 ],
 "metadata": {
  "kernelspec": {
   "display_name": "Python 3 (ipykernel)",
   "language": "python",
   "name": "python3"
  },
  "language_info": {
   "codemirror_mode": {
    "name": "ipython",
    "version": 3
   },
   "file_extension": ".py",
   "mimetype": "text/x-python",
   "name": "python",
   "nbconvert_exporter": "python",
   "pygments_lexer": "ipython3",
   "version": "3.9.7"
  }
 },
 "nbformat": 4,
 "nbformat_minor": 5
}
